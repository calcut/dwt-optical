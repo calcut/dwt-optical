{
 "cells": [
  {
   "cell_type": "code",
   "execution_count": 8,
   "metadata": {},
   "outputs": [],
   "source": [
    "import csv_helpers as csv\n",
    "from IPython.display import display"
   ]
  },
  {
   "cell_type": "markdown",
   "metadata": {},
   "source": [
    "## Save Dummy Data for all elements into tsv folder structure\n"
   ]
  },
  {
   "cell_type": "code",
   "execution_count": 2,
   "metadata": {},
   "outputs": [
    {
     "name": "stdout",
     "output_type": "stream",
     "text": [
      "Generating Dummy tsv files with the following settings\n"
     ]
    },
    {
     "data": {
      "text/plain": [
       "{'filename': 'test.hdf5',\n",
       " 'output_dir': './dummydata',\n",
       " 'instrument': {'name': 'Lab_setup_02',\n",
       "  'sensor': 'DUM01',\n",
       "  'element_rows': 4,\n",
       "  'element_cols': 4,\n",
       "  'light Source': 'Stellarnet LED White',\n",
       "  'spectrometer': 'Stellarnet BlueWave VIS-25'},\n",
       " 'fluid_list': ['water', 'beer1', 'beer2'],\n",
       " 'wavelength_range': [400, 420, 0.5],\n",
       " 'elements': 'all',\n",
       " 'repeats': 3,\n",
       " 'measuredOn': '2021_11_02'}"
      ]
     },
     "metadata": {},
     "output_type": "display_data"
    },
    {
     "name": "stdout",
     "output_type": "stream",
     "text": [
      "appending another data set with new sensor name\n"
     ]
    }
   ],
   "source": [
    "\n",
    "import dummydata\n",
    "\n",
    "print(\"Generating Dummy tsv files with the following settings\")\n",
    "run_settings = dummydata.defaults\n",
    "display(run_settings)\n",
    "\n",
    "run_settings = dummydata.defaults\n",
    "run_settings['instrument']['sensor'] = 'DUM01'\n",
    "dummydata.generate_tsv(run_settings, append=False)\n",
    "\n",
    "print(\"appending another data set with new sensor name\")\n",
    "run_settings['instrument']['sensor'] = 'DUM02'\n",
    "dummydata.generate_tsv(run_settings, append=True)\n"
   ]
  },
  {
   "cell_type": "markdown",
   "metadata": {},
   "source": [
    "## Preview of csv spectrometer data"
   ]
  },
  {
   "cell_type": "code",
   "execution_count": 5,
   "metadata": {},
   "outputs": [
    {
     "data": {
      "text/html": [
       "<div>\n",
       "<style scoped>\n",
       "    .dataframe tbody tr th:only-of-type {\n",
       "        vertical-align: middle;\n",
       "    }\n",
       "\n",
       "    .dataframe tbody tr th {\n",
       "        vertical-align: top;\n",
       "    }\n",
       "\n",
       "    .dataframe thead th {\n",
       "        text-align: right;\n",
       "    }\n",
       "</style>\n",
       "<table border=\"1\" class=\"dataframe\">\n",
       "  <thead>\n",
       "    <tr style=\"text-align: right;\">\n",
       "      <th></th>\n",
       "      <th>wavelength</th>\n",
       "      <th>rep1</th>\n",
       "      <th>rep2</th>\n",
       "      <th>rep3</th>\n",
       "    </tr>\n",
       "  </thead>\n",
       "  <tbody>\n",
       "    <tr>\n",
       "      <th>0</th>\n",
       "      <td>457.131</td>\n",
       "      <td>98.77</td>\n",
       "      <td>99.22</td>\n",
       "      <td>98.77</td>\n",
       "    </tr>\n",
       "    <tr>\n",
       "      <th>1</th>\n",
       "      <td>457.204</td>\n",
       "      <td>99.00</td>\n",
       "      <td>99.16</td>\n",
       "      <td>98.96</td>\n",
       "    </tr>\n",
       "    <tr>\n",
       "      <th>2</th>\n",
       "      <td>457.277</td>\n",
       "      <td>95.12</td>\n",
       "      <td>95.17</td>\n",
       "      <td>94.66</td>\n",
       "    </tr>\n",
       "    <tr>\n",
       "      <th>3</th>\n",
       "      <td>457.349</td>\n",
       "      <td>93.82</td>\n",
       "      <td>93.88</td>\n",
       "      <td>93.54</td>\n",
       "    </tr>\n",
       "    <tr>\n",
       "      <th>4</th>\n",
       "      <td>457.422</td>\n",
       "      <td>93.98</td>\n",
       "      <td>94.03</td>\n",
       "      <td>93.78</td>\n",
       "    </tr>\n",
       "    <tr>\n",
       "      <th>...</th>\n",
       "      <td>...</td>\n",
       "      <td>...</td>\n",
       "      <td>...</td>\n",
       "      <td>...</td>\n",
       "    </tr>\n",
       "    <tr>\n",
       "      <th>4090</th>\n",
       "      <td>730.534</td>\n",
       "      <td>66.20</td>\n",
       "      <td>65.54</td>\n",
       "      <td>66.02</td>\n",
       "    </tr>\n",
       "    <tr>\n",
       "      <th>4091</th>\n",
       "      <td>730.598</td>\n",
       "      <td>66.68</td>\n",
       "      <td>66.14</td>\n",
       "      <td>66.71</td>\n",
       "    </tr>\n",
       "    <tr>\n",
       "      <th>4092</th>\n",
       "      <td>730.661</td>\n",
       "      <td>67.71</td>\n",
       "      <td>67.92</td>\n",
       "      <td>67.83</td>\n",
       "    </tr>\n",
       "    <tr>\n",
       "      <th>4093</th>\n",
       "      <td>730.724</td>\n",
       "      <td>66.41</td>\n",
       "      <td>67.32</td>\n",
       "      <td>66.72</td>\n",
       "    </tr>\n",
       "    <tr>\n",
       "      <th>4094</th>\n",
       "      <td>730.787</td>\n",
       "      <td>66.31</td>\n",
       "      <td>65.35</td>\n",
       "      <td>66.13</td>\n",
       "    </tr>\n",
       "  </tbody>\n",
       "</table>\n",
       "<p>4095 rows × 4 columns</p>\n",
       "</div>"
      ],
      "text/plain": [
       "      wavelength   rep1   rep2   rep3\n",
       "0        457.131  98.77  99.22  98.77\n",
       "1        457.204  99.00  99.16  98.96\n",
       "2        457.277  95.12  95.17  94.66\n",
       "3        457.349  93.82  93.88  93.54\n",
       "4        457.422  93.98  94.03  93.78\n",
       "...          ...    ...    ...    ...\n",
       "4090     730.534  66.20  65.54  66.02\n",
       "4091     730.598  66.68  66.14  66.71\n",
       "4092     730.661  67.71  67.92  67.83\n",
       "4093     730.724  66.41  67.32  66.72\n",
       "4094     730.787  66.31  65.35  66.13\n",
       "\n",
       "[4095 rows x 4 columns]"
      ]
     },
     "execution_count": 5,
     "metadata": {},
     "output_type": "execute_result"
    }
   ],
   "source": [
    "import os\n",
    "import pandas as pd\n",
    "dir = \"/Users/calum/git/Glasgow/sampleData/Beer x Bitter\"\n",
    "testfile = \"HAN24_Sensor10_BeerBitter1_Rotation1.txt\"\n",
    "df = pd.read_csv(os.path.join(dir, testfile), sep='\\t')\n",
    "\n",
    "#label columns\n",
    "reps = len(df.columns)-1\n",
    "col_names = ['wavelength']\n",
    "for r in range(reps):\n",
    "\tcol_names.append(F\"rep{r+1}\")\n",
    "df.columns = col_names\n",
    "df"
   ]
  },
  {
   "cell_type": "code",
   "execution_count": 1,
   "metadata": {},
   "outputs": [
    {
     "ename": "NameError",
     "evalue": "name 'df' is not defined",
     "output_type": "error",
     "traceback": [
      "\u001b[0;31m---------------------------------------------------------------------------\u001b[0m",
      "\u001b[0;31mNameError\u001b[0m                                 Traceback (most recent call last)",
      "\u001b[0;32m/var/folders/w4/4x6yzppn70q7vmnd3gln2xfc0000gn/T/ipykernel_38475/227425605.py\u001b[0m in \u001b[0;36m<module>\u001b[0;34m\u001b[0m\n\u001b[1;32m      8\u001b[0m \u001b[0;34m\u001b[0m\u001b[0m\n\u001b[1;32m      9\u001b[0m \u001b[0;34m\u001b[0m\u001b[0m\n\u001b[0;32m---> 10\u001b[0;31m \u001b[0mcsv\u001b[0m\u001b[0;34m.\u001b[0m\u001b[0mstore\u001b[0m\u001b[0;34m(\u001b[0m\u001b[0mdf\u001b[0m\u001b[0;34m,\u001b[0m \u001b[0mdummy_metadata\u001b[0m\u001b[0;34m)\u001b[0m\u001b[0;34m\u001b[0m\u001b[0;34m\u001b[0m\u001b[0m\n\u001b[0m",
      "\u001b[0;31mNameError\u001b[0m: name 'df' is not defined"
     ]
    }
   ],
   "source": [
    "import csv_helpers as csv\n",
    "\n",
    "dummy_metadata = {\n",
    "    'sensor'            : 'HAN24',\n",
    "    'element'           : 'A02',\n",
    "    'fluid'             : 'beer',\n",
    "}\n",
    "\n",
    "\n",
    "csv.store(df, dummy_metadata)\n"
   ]
  },
  {
   "cell_type": "code",
   "execution_count": 6,
   "metadata": {},
   "outputs": [
    {
     "ename": "NameError",
     "evalue": "name 'csv' is not defined",
     "output_type": "error",
     "traceback": [
      "\u001b[0;31m---------------------------------------------------------------------------\u001b[0m",
      "\u001b[0;31mNameError\u001b[0m                                 Traceback (most recent call last)",
      "\u001b[0;32m/var/folders/w4/4x6yzppn70q7vmnd3gln2xfc0000gn/T/ipykernel_37974/542994163.py\u001b[0m in \u001b[0;36m<module>\u001b[0;34m\u001b[0m\n\u001b[1;32m      4\u001b[0m     \u001b[0;34m'fluid'\u001b[0m             \u001b[0;34m:\u001b[0m \u001b[0;34m'beer'\u001b[0m\u001b[0;34m,\u001b[0m\u001b[0;34m\u001b[0m\u001b[0;34m\u001b[0m\u001b[0m\n\u001b[1;32m      5\u001b[0m }\n\u001b[0;32m----> 6\u001b[0;31m \u001b[0mcsv\u001b[0m\u001b[0;34m.\u001b[0m\u001b[0mstore\u001b[0m\u001b[0;34m(\u001b[0m\u001b[0mdf\u001b[0m\u001b[0;34m,\u001b[0m \u001b[0mdummy_metadata\u001b[0m\u001b[0;34m)\u001b[0m\u001b[0;34m\u001b[0m\u001b[0;34m\u001b[0m\u001b[0m\n\u001b[0m",
      "\u001b[0;31mNameError\u001b[0m: name 'csv' is not defined"
     ]
    }
   ],
   "source": [
    "dummy_metadata = {\n",
    "    'sensor'            : 'HAN24',\n",
    "    'element'           : 'A02',\n",
    "    'fluid'             : 'beer',\n",
    "}\n",
    "csv.store(df, dummy_metadata)"
   ]
  },
  {
   "cell_type": "code",
   "execution_count": null,
   "metadata": {},
   "outputs": [],
   "source": []
  },
  {
   "cell_type": "markdown",
   "metadata": {},
   "source": [
    "## Import from .txt or .csv files\n",
    "\n",
    "### Input File\n",
    "\n",
    "Requires a text file with at least 2 columns.\n",
    "(They don't need to be named in the file)\n",
    "\n",
    "[wavelength]\t[transmission data 1]\t...[transmission data n (optional)]\n",
    "\n",
    "The default is for tab separation, but can be specified with:\n",
    "\n",
    "separator = '\\t'\n",
    "\n",
    "### Regex\n",
    "A regex must be provided to identify these metadata fields from the filename:\n",
    "* sensor\n",
    "* element\n",
    "* fluid\n",
    "\n",
    "Optional, will be preserved in the metadata:\n",
    "* rotation\n"
   ]
  },
  {
   "cell_type": "code",
   "execution_count": 2,
   "metadata": {},
   "outputs": [
    {
     "name": "stdout",
     "output_type": "stream",
     "text": [
      "Warning regex not matched on filename: lightref_int450ms.txt\n",
      "Warning regex not matched on filename: lightref_int500ms.txt\n",
      "Warning regex not matched on filename: lightref_int600ms.txt\n"
     ]
    }
   ],
   "source": [
    "import shutil\n",
    "import re\n",
    "import csv_helpers as csv\n",
    "import pandas as pd\n",
    "\n",
    "\n",
    "\n",
    "#Folder containing text/csv files to import\n",
    "# import_dir = \"/Users/calum/git/Glasgow/sampleData/Beer x Bitter\"\n",
    "input_dir = \"/Users/calum/git/Glasgow/sampleData/combined\"\n",
    "output_dir = './imported'\n",
    "\n",
    "# Construct a regex to extract metadata from the filename\n",
    "# example 'HAN24_Sensor9_BeerBitter3_Rotation2.txt'\n",
    "regex = '(?P<sensor>.+)_Sensor(?P<element>.+)_(?P<fluid>.+)_Rotation(?P<rotation>.+).txt'\n",
    "\n",
    "csv.import_dir_to_csv(input_dir, regex, output_dir, separator='\\t', append=False)\n"
   ]
  },
  {
   "cell_type": "code",
   "execution_count": null,
   "metadata": {},
   "outputs": [],
   "source": [
    "#Folder containing text/csv files to import\n",
    "# import_dir = \"/Users/calum/git/Glasgow/sampleData/Beer x Bitter\"\n",
    "import_dir = \"/Users/calum/git/Glasgow/sampleData/combined\"\n",
    "\n",
    "# Construct a regex to extract metadata from the filename\n",
    "# example 'HAN24_Sensor9_BeerBitter3_Rotation2.txt'\n",
    "regex = '(?P<sensor>.+)_Sensor(?P<element>.+)_(?P<fluid>.+)_Rotation(?P<rotation>.+).txt'\n",
    "\n",
    "h5.import_dir_to_hdf(import_dir, regex, filename, append=False)"
   ]
  },
  {
   "cell_type": "markdown",
   "metadata": {},
   "source": [
    "## Inspect an HDF5 file by metadata"
   ]
  },
  {
   "cell_type": "code",
   "execution_count": null,
   "metadata": {},
   "outputs": [],
   "source": [
    "h5.inspect('test.hdf5')"
   ]
  },
  {
   "cell_type": "markdown",
   "metadata": {},
   "source": [
    "## Example of searching by metadata\n",
    "\n",
    "filter_by_metadata() returns a list of h5 nodes that match the\n",
    "criteria.\n",
    "\n",
    "It can search a full h5 file, or if a nodelist is provided, it will work from\n",
    "that.\n",
    "\n",
    "Search criteria must include a metadata key, and can optionally include a\n",
    "metadata value"
   ]
  },
  {
   "cell_type": "code",
   "execution_count": null,
   "metadata": {},
   "outputs": [],
   "source": [
    "e01 = h5.filter_by_metadata(filename, 'element', \"01\")\n",
    "e01_BeerBitter1 = h5.filter_by_metadata(filename, 'fluid', \"BeerBitter1\", nodelist=e01)\n",
    "\n",
    "print(e01_BeerBitter1)\n"
   ]
  },
  {
   "cell_type": "markdown",
   "metadata": {},
   "source": [
    "## Export Table\n",
    "\n",
    "export_dataframes() requires a list of measurements to export\n",
    "\n",
    "e.g. by filtering for nodes with 'HAN24' in the 'sensor' metadata\n",
    "\n"
   ]
  },
  {
   "cell_type": "code",
   "execution_count": null,
   "metadata": {},
   "outputs": [],
   "source": [
    "measurements = h5.filter_by_metadata(filename, 'sensor', 'HAN24')\n",
    "export = h5.export_dataframes(filename, measurements, outfile=None)\n",
    "display(export)"
   ]
  },
  {
   "cell_type": "code",
   "execution_count": null,
   "metadata": {},
   "outputs": [],
   "source": [
    "import os\n",
    "import pandas as pd\n",
    "import numpy as np\n",
    "from scipy.interpolate import interp1d\n",
    "dir = \"/Users/calum/git/Glasgow/sampleData/Beer x Bitter\"\n",
    "testfile = \"HAN24_Sensor10_BeerBitter1_Rotation1.txt\"\n",
    "df = pd.read_csv(os.path.join(dir, testfile), sep='\\t')\n",
    "\n",
    "#label columns\n",
    "reps = len(df.columns)-1\n",
    "col_names = ['wavelength']\n",
    "for r in range(reps):\n",
    "\tcol_names.append(F\"rep{r+1}\")\n",
    "df.columns = col_names\n",
    "df\n",
    "\n",
    "def filter_df(df, wl_min, wl_max, resample):\n",
    "\n",
    "    df = df.loc[lambda dfn: dfn['wavelength'] > wl_min-1, :]\n",
    "    df = df.loc[lambda dfn: dfn['wavelength'] < wl_max+1, :]\n",
    "\n",
    "    wavel_new = np.arange(wl_min, wl_max, resample)\n",
    "    result = {}\n",
    "    for col in df:\n",
    "        if col == 'wavelength':\n",
    "            result[col] = wavel_new\n",
    "        else: \n",
    "            maxval = df[col].max()\n",
    "            df[col] = df[col] / maxval\n",
    "            f = interp1d(df['wavelength'], df[col], 'linear')\n",
    "        \n",
    "            result[col] = f(wavel_new)\n",
    "    return pd.DataFrame(result)\n",
    "\n",
    "\n",
    "\n",
    "df = filter_df(df, wl_min=540, wl_max=730, resample=0.3)\n",
    "df\n",
    "\n",
    "\n",
    "\n",
    "\n",
    "\n"
   ]
  },
  {
   "cell_type": "code",
   "execution_count": null,
   "metadata": {},
   "outputs": [],
   "source": []
  }
 ],
 "metadata": {
  "interpreter": {
   "hash": "f31154455c617200f6006f2a223dcbadc31d7b83ab982d3aca62bb7283f030fb"
  },
  "kernelspec": {
   "display_name": "Python 3.9.7 64-bit ('dw': conda)",
   "name": "python3"
  },
  "language_info": {
   "codemirror_mode": {
    "name": "ipython",
    "version": 3
   },
   "file_extension": ".py",
   "mimetype": "text/x-python",
   "name": "python",
   "nbconvert_exporter": "python",
   "pygments_lexer": "ipython3",
   "version": "3.9.7"
  },
  "orig_nbformat": 4
 },
 "nbformat": 4,
 "nbformat_minor": 2
}
