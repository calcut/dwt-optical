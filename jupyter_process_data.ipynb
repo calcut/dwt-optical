{
 "cells": [
  {
   "cell_type": "markdown",
   "metadata": {},
   "source": [
    "### Setup and index\n",
    "Select a single measurement from database"
   ]
  },
  {
   "cell_type": "code",
   "execution_count": null,
   "metadata": {},
   "outputs": [],
   "source": [
    "import lib.csv_helpers as csv\n",
    "import lib.data_process \n",
    "import lib.json_setup as json_setup\n",
    "import matplotlib.pyplot as plt\n",
    "import os\n",
    "import numpy as np\n",
    "import pandas as pd\n",
    "\n",
    "# change directory to wherever you have your setup and data folders\n",
    "os.chdir('/Users/calum/Desktop/spectrometer')\n",
    "\n",
    "# select the appropriate setup file, and read it in\n",
    "setup_path = \"setup/default_setup.json\"\n",
    "setup = json_setup.json_to_dict(setup_path)\n",
    "\n",
    "# Read in the index file of the metadata \n",
    "meta_df = csv.read_metadata(setup)\n",
    "\n",
    "# Filter for the measurement you are interested in\n",
    "meta_df = csv.select_from_metadata('fluid', 'Air', meta_df)\n",
    "# meta_df = csv.select_from_metadata('element', 'A01', meta_df)\n",
    "meta_df"
   ]
  },
  {
   "cell_type": "markdown",
   "metadata": {},
   "source": [
    "### Process data\n",
    "\n",
    "Apply any desired processing options (as defined in the data_process.py file)"
   ]
  },
  {
   "cell_type": "code",
   "execution_count": null,
   "metadata": {},
   "outputs": [],
   "source": [
    "\n",
    "# Read in the actual spectral data, merging all measurements into a single dataframe\n",
    "merged_df, title = csv.merge_dataframes(setup, meta_df)\n",
    "\n",
    "# Configure the parameters for processing the data\n",
    "dp = lib.data_process.DataProcessor()\n",
    "dp.apply_avg_repeats = True\n",
    "dp.apply_normalise = True\n",
    "dp.apply_smooth = False\n",
    "dp.apply_trim = False\n",
    "dp.apply_interpolate = False\n",
    "dp.apply_round = True\n",
    "\n",
    "dp.smooth_points = 3\n",
    "dp.wavelength_trim_min = 540\n",
    "dp.wavelength_trim_max = 730\n",
    "dp.round_decimals = 3\n",
    "\n",
    "# Apply the processing\n",
    "df = dp.process_dataframe(merged_df)\n",
    "df"
   ]
  },
  {
   "attachments": {},
   "cell_type": "markdown",
   "metadata": {},
   "source": [
    "### Get Stats and export"
   ]
  },
  {
   "cell_type": "code",
   "execution_count": null,
   "metadata": {},
   "outputs": [],
   "source": [
    "export = pd.DataFrame()\n",
    "for row in meta_df.index:\n",
    "    stats_df = csv.get_stats_single(setup, dp, meta_df, row, std_deviation=True)\n",
    "\n",
    "    # Accumulate the dataframes in a large 'export' dataframe\n",
    "    export = pd.concat([export, stats_df], axis=0)\n",
    "\n",
    "    export.sort_index(inplace=True)\n",
    "    export.sort_values(by=['element'], inplace=True, kind=\"stable\")\n",
    "\n",
    "export"
   ]
  },
  {
   "cell_type": "markdown",
   "metadata": {},
   "source": [
    "### Custom Processing\n",
    "An example of creating a derivative function"
   ]
  },
  {
   "cell_type": "code",
   "execution_count": null,
   "metadata": {},
   "outputs": [],
   "source": [
    "# Define a custom function\n",
    "def derivative(df, trim_nm=100, smooth_points=30):\n",
    "\n",
    "    for col in df:\n",
    "        # smooth first\n",
    "        df[f'{col}_smoothed'] = df[f'{col}'].rolling(window=smooth_points, center=True).mean()\n",
    "\n",
    "        # Get the literal minimum\n",
    "        wl_minimum = df[f'{col}_smoothed'].idxmin()\n",
    "\n",
    "        # trim the derivative at +/- trim_nm around the minimum\n",
    "        df[f'{col}_smoothed'] = df[f'{col}_smoothed'].loc[df.index >= wl_minimum -trim_nm]\n",
    "        df[f'{col}_smoothed'] = df[f'{col}_smoothed'].loc[df.index <= wl_minimum +trim_nm]\n",
    "\n",
    "        # create a wavelength series so the .diff() function on it\n",
    "        wavelength_series = df.index.to_series()\n",
    "\n",
    "        # This does a simple delta y / delta x type of derivative\n",
    "        df[f'{col}_deriv'] = df[f'{col}_smoothed'].diff() / wavelength_series.diff()\n",
    "\n",
    "    return df\n",
    "\n",
    "# Apply custom function\n",
    "df = derivative(df, trim_nm=100, smooth_points=30)\n",
    "\n",
    "# Get inflections by finding the index (i.e. row numbers) of the min and max of the smoothed derivative\n",
    "# Then looking up the wavelength at that those indicies.\n",
    "inflection_min = df['avg_deriv'].idxmin()\n",
    "inflection_max = df['avg_deriv'].idxmax()\n",
    "print(f'{inflection_min=}')\n",
    "print(f'{inflection_max=}')"
   ]
  },
  {
   "cell_type": "markdown",
   "metadata": {},
   "source": [
    "### Plot"
   ]
  },
  {
   "cell_type": "code",
   "execution_count": null,
   "metadata": {},
   "outputs": [],
   "source": [
    "\n",
    "\n",
    "for col in df.columns:\n",
    "    if col == 'avg_deriv': #Normalise for better plotting\n",
    "        maxval = df[col].max() - df[col].min()\n",
    "        df[col] = df[col] / maxval - df[col].min()\n",
    "\n",
    "    plt.plot(df.index, df[col], label=col)\n",
    "\n",
    "plt.xlabel(\"Wavelength (nm)\", fontsize=20)\n",
    "plt.ylabel(\"Transmission (%)\", fontsize=20)\n",
    "plt.xticks(fontsize=18)\n",
    "plt.yticks(fontsize=18)\n",
    "fig=plt.gcf()\n",
    "fig.set_size_inches(15, 8)\n",
    "\n",
    "plt.axvline(x=inflection_min, label=f\"Inflection_min={inflection_min}\", color='r')\n",
    "plt.axvline(x=inflection_max, label=f\"Inflection_max={inflection_max}\", color='r')\n",
    "plt.legend()\n",
    "\n",
    "plt.show()"
   ]
  },
  {
   "cell_type": "code",
   "execution_count": null,
   "metadata": {},
   "outputs": [],
   "source": [
    "lib.data_process.plot(df)"
   ]
  }
 ],
 "metadata": {
  "kernelspec": {
   "display_name": "Python 3.9.13 64-bit",
   "language": "python",
   "name": "python3"
  },
  "language_info": {
   "codemirror_mode": {
    "name": "ipython",
    "version": 3
   },
   "file_extension": ".py",
   "mimetype": "text/x-python",
   "name": "python",
   "nbconvert_exporter": "python",
   "pygments_lexer": "ipython3",
   "version": "3.10.4"
  },
  "orig_nbformat": 4,
  "vscode": {
   "interpreter": {
    "hash": "aee8b7b246df8f9039afb4144a1f6fd8d2ca17a180786b69acc140d282b71a49"
   }
  }
 },
 "nbformat": 4,
 "nbformat_minor": 2
}
