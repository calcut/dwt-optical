{
 "cells": [
  {
   "cell_type": "code",
   "execution_count": 3,
   "metadata": {},
   "outputs": [],
   "source": [
    "import lib.csv_helpers as csv\n",
    "from IPython.display import display\n",
    "import shutil\n",
    "import os\n",
    "\n",
    "#Delete any existing dummy data\n",
    "if os.path.exists('dummydata'):\n",
    "    shutil.rmtree('dummydata')"
   ]
  },
  {
   "cell_type": "markdown",
   "metadata": {},
   "source": [
    "## Generate Dummy Data\n",
    "for testing / demo purposes."
   ]
  },
  {
   "cell_type": "code",
   "execution_count": null,
   "metadata": {},
   "outputs": [],
   "source": [
    "import lib.csv_helpers as csv\n",
    "from IPython.display import display\n",
    "import lib.json_setup as json_setup\n",
    "\n",
    "print(\"Generating metadata run list with the following settings\")\n",
    "\n",
    "# Start with the example setup dictionary\n",
    "setup = csv.get_default_setup()\n",
    "\n",
    "run_df = csv.generate_run_df(setup)\n",
    "display(run_df)\n",
    "# Iterate through the run_df calling dummy_measurement for each row,\n",
    "# Stores the results in the path/subdirs defined in setup. \n",
    "csv.run_measure(setup, run_df, measure_func=csv.dummy_measurement)\n"
   ]
  },
  {
   "cell_type": "markdown",
   "metadata": {},
   "source": [
    "## List Serial Ports\n",
    "To find thorlabs stage"
   ]
  },
  {
   "cell_type": "code",
   "execution_count": 12,
   "metadata": {},
   "outputs": [
    {
     "name": "stdout",
     "output_type": "stream",
     "text": [
      "1) COM4: APT USB Device Serial Port (COM4) [USB VID:PID=0403:FAF0 SER=6]\n"
     ]
    }
   ],
   "source": [
    "import serial.tools.list_ports\n",
    "ports = serial.tools.list_ports.comports()\n",
    "n =1 \n",
    "for port, desc, hwid in sorted(ports):\n",
    "    print(f\"{n}) {port}: {desc} [{hwid}]\")\n",
    "    n+=1"
   ]
  },
  {
   "cell_type": "code",
   "execution_count": 1,
   "metadata": {},
   "outputs": [
    {
     "name": "stderr",
     "output_type": "stream",
     "text": [
      "INFO:root:thorlabs serial connection on COM4\n",
      "INFO:root:Enabling stage channels\n",
      "INFO:root:Homing stage\n",
      "INFO:root:waiting for home\n"
     ]
    },
    {
     "name": "stdout",
     "output_type": "stream",
     "text": [
      "setting up hardware\n"
     ]
    },
    {
     "name": "stderr",
     "output_type": "stream",
     "text": [
      "WARNING:root:Stellarnet connection error: No devices found\n"
     ]
    }
   ],
   "source": [
    "import lib.csv_helpers as csv\n",
    "from IPython.display import display\n",
    "import lib.json_setup as json_setup\n",
    "from lib.stellarnet_thorlabs import Stellarnet_Thorlabs_Hardware\n",
    "import thorlabs_apt_protocol as apt\n",
    "import time\n",
    "\n",
    "\n",
    "# Start with the example setup dictionary\n",
    "setup = csv.get_default_setup()\n",
    "# Customisations to the setup file\n",
    "setup['input_config']['repeats'] = 1\n",
    "setup['input_config']['fluids'] = ['waterA']\n",
    "setup['input_config']['elements'] = ['A01', 'A02']\n",
    "\n",
    "print('setting up hardware')\n",
    "\n",
    "hw = Stellarnet_Thorlabs_Hardware()\n",
    "hw.connect(setup, serial_port='COM4')\n",
    "\n",
    "\n",
    "# try:\n",
    "#     print(\"Generating metadata run list with the following settings\")\n",
    "#     run_df = csv.generate_run_df(setup)\n",
    "#     display(run_df)\n",
    "\n",
    "#     # Iterate through the run_df calling dummy_measurement for each row,\n",
    "#     # Stores the results in the path/subdirs defined in setup. \n",
    "#     csv.run_measure(setup, run_df, measure_func=hw.measure)\n",
    "\n",
    "# finally:\n",
    "#     hw.disable_stage()\n"
   ]
  },
  {
   "cell_type": "code",
   "execution_count": 7,
   "metadata": {},
   "outputs": [
    {
     "name": "stderr",
     "output_type": "stream",
     "text": [
      "INFO:root:Disabling stage\n"
     ]
    }
   ],
   "source": [
    "hw.disable_stage()"
   ]
  },
  {
   "cell_type": "code",
   "execution_count": 4,
   "metadata": {},
   "outputs": [
    {
     "name": "stderr",
     "output_type": "stream",
     "text": [
      "INFO:root:Spectrometer Connected\n",
      "INFO:root:scans_to_avg=1 int_time=10 x_smooth=0 x_timing=1\n"
     ]
    },
    {
     "name": "stdout",
     "output_type": "stream",
     "text": [
      "in else\n",
      "Gain Table From EEPROM:  ÿÿÿÿÿÿÿÿÿÿÿÿÿÿÿÿÿÿÿÿÿÿÿÿÿÿÿÿÿÿÿ\n",
      "{'auto_id_0': {'device': <lib.stellarnet_win.stellarnet_driver3.StellarNet object at 0x000001E500FDE6E0>, 'config_id': 0}}\n"
     ]
    }
   ],
   "source": [
    "hw.stellarnet_setup()"
   ]
  },
  {
   "cell_type": "code",
   "execution_count": 5,
   "metadata": {},
   "outputs": [
    {
     "name": "stdout",
     "output_type": "stream",
     "text": [
      "Generating metadata run list with the following settings\n"
     ]
    },
    {
     "data": {
      "text/html": [
       "<div>\n",
       "<style scoped>\n",
       "    .dataframe tbody tr th:only-of-type {\n",
       "        vertical-align: middle;\n",
       "    }\n",
       "\n",
       "    .dataframe tbody tr th {\n",
       "        vertical-align: top;\n",
       "    }\n",
       "\n",
       "    .dataframe thead th {\n",
       "        text-align: right;\n",
       "    }\n",
       "</style>\n",
       "<table border=\"1\" class=\"dataframe\">\n",
       "  <thead>\n",
       "    <tr style=\"text-align: right;\">\n",
       "      <th></th>\n",
       "      <th>date</th>\n",
       "      <th>instrument</th>\n",
       "      <th>sensor</th>\n",
       "      <th>element</th>\n",
       "      <th>structure</th>\n",
       "      <th>surface</th>\n",
       "      <th>fluid</th>\n",
       "      <th>repeats</th>\n",
       "      <th>comment</th>\n",
       "    </tr>\n",
       "    <tr>\n",
       "      <th>index</th>\n",
       "      <th></th>\n",
       "      <th></th>\n",
       "      <th></th>\n",
       "      <th></th>\n",
       "      <th></th>\n",
       "      <th></th>\n",
       "      <th></th>\n",
       "      <th></th>\n",
       "      <th></th>\n",
       "    </tr>\n",
       "  </thead>\n",
       "  <tbody>\n",
       "    <tr>\n",
       "      <th>default_sensor-A01-waterA</th>\n",
       "      <td>NaT</td>\n",
       "      <td>default_instrument</td>\n",
       "      <td>default_sensor</td>\n",
       "      <td>A01</td>\n",
       "      <td>Al</td>\n",
       "      <td>None</td>\n",
       "      <td>waterA</td>\n",
       "      <td>1</td>\n",
       "      <td></td>\n",
       "    </tr>\n",
       "    <tr>\n",
       "      <th>default_sensor-A02-waterA</th>\n",
       "      <td>NaT</td>\n",
       "      <td>default_instrument</td>\n",
       "      <td>default_sensor</td>\n",
       "      <td>A02</td>\n",
       "      <td>Au</td>\n",
       "      <td>None</td>\n",
       "      <td>waterA</td>\n",
       "      <td>1</td>\n",
       "      <td></td>\n",
       "    </tr>\n",
       "  </tbody>\n",
       "</table>\n",
       "</div>"
      ],
      "text/plain": [
       "                          date          instrument          sensor element  \\\n",
       "index                                                                        \n",
       "default_sensor-A01-waterA  NaT  default_instrument  default_sensor     A01   \n",
       "default_sensor-A02-waterA  NaT  default_instrument  default_sensor     A02   \n",
       "\n",
       "                          structure surface   fluid  repeats comment  \n",
       "index                                                                 \n",
       "default_sensor-A01-waterA        Al    None  waterA        1          \n",
       "default_sensor-A02-waterA        Au    None  waterA        1          "
      ]
     },
     "metadata": {},
     "output_type": "display_data"
    },
    {
     "name": "stderr",
     "output_type": "stream",
     "text": [
      "INFO:root:\n",
      "\n",
      "Measuring Element A01\n",
      "INFO:root:at position x=0.1 y=0.1\n",
      "INFO:root:wl_min=400 wl_max=420\n",
      "INFO:root:moving to position 0.1,0.1 vs reference 0,0\n",
      "INFO:root:waiting for move\n",
      "INFO:root:x move complete\n",
      "INFO:root:y move complete\n",
      "INFO:root:capturing spectrum now\n",
      "INFO:root:Merging into existing dummydata\\default_sensor\\waterA\\default_sensor-A01-waterA.txt\n",
      "INFO:root:\n",
      "\n",
      "Measuring Element A02\n",
      "INFO:root:at position x=0.1 y=0.2\n",
      "INFO:root:wl_min=400 wl_max=420\n",
      "INFO:root:moving to position 0.1,0.2 vs reference 0,0\n",
      "INFO:root:waiting for move\n",
      "INFO:root:x move complete\n",
      "INFO:root:y move complete\n",
      "INFO:root:capturing spectrum now\n",
      "INFO:root:Merging into existing dummydata\\default_sensor\\waterA\\default_sensor-A02-waterA.txt\n",
      "INFO:root:Merging into existing dummydata\\index.txt\n"
     ]
    }
   ],
   "source": [
    "print(\"Generating metadata run list with the following settings\")\n",
    "run_df = csv.generate_run_df(setup)\n",
    "display(run_df)\n",
    "\n",
    "# Iterate through the run_df calling dummy_measurement for each row,\n",
    "# Stores the results in the path/subdirs defined in setup. \n",
    "csv.run_measure(setup, run_df, measure_func=hw.measure)"
   ]
  },
  {
   "cell_type": "markdown",
   "metadata": {},
   "source": [
    "## Process and Plot data"
   ]
  },
  {
   "cell_type": "code",
   "execution_count": 6,
   "metadata": {},
   "outputs": [
    {
     "name": "stdout",
     "output_type": "stream",
     "text": [
      "fluid: waterA\n",
      "sensor: default_sensor\n"
     ]
    },
    {
     "data": {
      "image/png": "[encoded data removed]",
      "text/plain": [
       "<Figure size 1080x576 with 1 Axes>"
      ]
     },
     "metadata": {
      "needs_background": "light"
     },
     "output_type": "display_data"
    }
   ],
   "source": [
    "import lib.data_process\n",
    "\n",
    "meta_df = csv.read_metadata(setup)\n",
    "\n",
    "dp = lib.data_process.DataProcessor()\n",
    "dp.apply_interpolate = False\n",
    "dp.apply_normalise = False\n",
    "dp.apply_trim = False\n",
    "dp.apply_smooth = False\n",
    "dp.wavelength_trim_min = 540\n",
    "dp.wavelength_trim_max = 730\n",
    "\n",
    "# meta_df = csv.select_from_metadata('element', 'A01', meta_df)\n",
    "\n",
    "merged_df, title = csv.merge_dataframes(setup, meta_df)\n",
    "df = dp.process_dataframe(merged_df)\n",
    "print(title)\n",
    "df\n",
    "\n",
    "lib.data_process.plot(df)"
   ]
  },
  {
   "cell_type": "code",
   "execution_count": 55,
   "metadata": {},
   "outputs": [
    {
     "data": {
      "text/plain": [
       "'{\"A01\": [1.5, 0.0], \"A02\": [3.0, 0.0], \"A03\": [4.5, 0.0], \"A04\": [6.0, 0.0], \"A05\": [7.5, 0.0], \"A06\": [9.0, 0.0], \"A07\": [10.5, 0.0], \"A08\": [12.0, 0.0], \"A09\": [13.5, 0.0], \"A10\": [15.0, 0.0], \"A11\": [16.5, 0.0], \"A12\": [18.0, 0.0], \"A13\": [19.5, 0.0], \"A14\": [21.0, 0.0], \"A15\": [22.5, 0.0], \"A16\": [24.0, 0.0], \"B01\": [1.5, 1.5], \"B02\": [3.0, 1.5], \"B03\": [4.5, 1.5], \"B04\": [6.0, 1.5], \"B05\": [7.5, 1.5], \"B06\": [9.0, 1.5], \"B07\": [10.5, 1.5], \"B08\": [12.0, 1.5], \"B09\": [13.5, 1.5], \"B10\": [15.0, 1.5], \"B11\": [16.5, 1.5], \"B12\": [18.0, 1.5], \"B13\": [19.5, 1.5], \"B14\": [21.0, 1.5], \"B15\": [22.5, 1.5], \"B16\": [24.0, 1.5], \"C01\": [1.5, 3.0], \"C02\": [3.0, 3.0], \"C03\": [4.5, 3.0], \"C04\": [6.0, 3.0], \"C05\": [7.5, 3.0], \"C06\": [9.0, 3.0], \"C07\": [10.5, 3.0], \"C08\": [12.0, 3.0], \"C09\": [13.5, 3.0], \"C10\": [15.0, 3.0], \"C11\": [16.5, 3.0], \"C12\": [18.0, 3.0], \"C13\": [19.5, 3.0], \"C14\": [21.0, 3.0], \"C15\": [22.5, 3.0], \"C16\": [24.0, 3.0], \"D01\": [1.5, 4.5], \"D02\": [3.0, 4.5], \"D03\": [4.5, 4.5], \"D04\": [6.0, 4.5], \"D05\": [7.5, 4.5], \"D06\": [9.0, 4.5], \"D07\": [10.5, 4.5], \"D08\": [12.0, 4.5], \"D09\": [13.5, 4.5], \"D10\": [15.0, 4.5], \"D11\": [16.5, 4.5], \"D12\": [18.0, 4.5], \"D13\": [19.5, 4.5], \"D14\": [21.0, 4.5], \"D15\": [22.5, 4.5], \"D16\": [24.0, 4.5], \"E01\": [1.5, 6.0], \"E02\": [3.0, 6.0], \"E03\": [4.5, 6.0], \"E04\": [6.0, 6.0], \"E05\": [7.5, 6.0], \"E06\": [9.0, 6.0], \"E07\": [10.5, 6.0], \"E08\": [12.0, 6.0], \"E09\": [13.5, 6.0], \"E10\": [15.0, 6.0], \"E11\": [16.5, 6.0], \"E12\": [18.0, 6.0], \"E13\": [19.5, 6.0], \"E14\": [21.0, 6.0], \"E15\": [22.5, 6.0], \"E16\": [24.0, 6.0]}'"
      ]
     },
     "execution_count": 55,
     "metadata": {},
     "output_type": "execute_result"
    }
   ],
   "source": [
    "\n",
    "import string\n",
    "import json\n",
    "chems = ['MUA',\n",
    "'DDT',\n",
    "'NBA',\n",
    "'MPA',\n",
    "'PET',\n",
    "'MBA',\n",
    "'DTP',\n",
    "'PFDT',\n",
    "'MPBA',\n",
    "'FMT',\n",
    "'MHOH',\n",
    "'OT',\n",
    "'AMP',\n",
    "'NTP',\n",
    "'GLU',\n",
    "'blank']\n",
    "\n",
    "chem_offset = 3\n",
    "x_pos_offset = 1.5 #mm\n",
    "y_pos_offset = 1.5 #mm\n",
    "rows = 5\n",
    "cols = 16\n",
    "row_list = list(string.ascii_uppercase[:rows])\n",
    "col_list = range(1, cols+1)\n",
    "surface_map_dict = {}\n",
    "layout_map_dict = {}\n",
    "\n",
    "for row in row_list:\n",
    "    for col in col_list:\n",
    "        surface_map_dict[F\"{row}{col:02d}\"] = [chems[col-1], \"\"]\n",
    "        layout_map_dict[F\"{row}{col:02d}\"] = [x_pos_offset*col, y_pos_offset*row_list.index(row)]\n",
    "    chems = chems[chem_offset:] + chems[:chem_offset]\n",
    "\n",
    "# json.dumps(surface_map_dict)\n",
    "json.dumps(layout_map_dict)\n"
   ]
  },
  {
   "cell_type": "code",
   "execution_count": 15,
   "metadata": {},
   "outputs": [
    {
     "data": {
      "text/plain": [
       "1"
      ]
     },
     "execution_count": 15,
     "metadata": {},
     "output_type": "execute_result"
    }
   ],
   "source": [
    "17 % 16"
   ]
  }
 ],
 "metadata": {
  "kernelspec": {
   "display_name": "Python 3.10.5 64-bit",
   "language": "python",
   "name": "python3"
  },
  "language_info": {
   "codemirror_mode": {
    "name": "ipython",
    "version": 3
   },
   "file_extension": ".py",
   "mimetype": "text/x-python",
   "name": "python",
   "nbconvert_exporter": "python",
   "pygments_lexer": "ipython3",
   "version": "3.10.5"
  },
  "orig_nbformat": 4,
  "vscode": {
   "interpreter": {
    "hash": "8450430eed50ec594d6a459e3d0e7a5f9f508f24554465b537814645483488ac"
   }
  }
 },
 "nbformat": 4,
 "nbformat_minor": 2
}
